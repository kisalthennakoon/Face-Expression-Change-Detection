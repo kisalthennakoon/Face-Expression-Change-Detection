{
  "cells": [
    {
      "cell_type": "code",
      "execution_count": 1,
      "metadata": {
        "id": "MYlJboQkvh_o"
      },
      "outputs": [],
      "source": [
        "import cv2\n",
        "import numpy as np\n",
        "from matplotlib import pyplot as pyplot\n",
        "import os"
      ]
    },
    {
      "cell_type": "code",
      "execution_count": 2,
      "metadata": {
        "id": "CnZwo56u06LX"
      },
      "outputs": [],
      "source": [
        "# Function to compute the magnitude of optical flow in each 8x8 pixel block\n",
        "def get_magnitude(u, v):\n",
        "    scale = 3\n",
        "    sum = 0.0\n",
        "    counter = 0.0\n",
        "    for i in range(0, u.shape[0], 8):\n",
        "        for j in range(0, u.shape[1], 8):\n",
        "            counter += 1\n",
        "            dy = v[i, j] * scale\n",
        "            dx = u[i, j] * scale\n",
        "            magnitude = (dx**2 + dy**2)**0.5\n",
        "            sum += magnitude\n",
        "    mag_avg = sum / counter\n",
        "    return mag_avg"
      ]
    },
    {
      "cell_type": "code",
      "execution_count": 3,
      "metadata": {
        "id": "fKtC-j_m1cBe"
      },
      "outputs": [],
      "source": [
        "# Function to compute image derivatives along x, y, and time\n",
        "def get_derivatives(img1, img2):\n",
        "    x_kernel = np.array([[-1, 1], [-1, 1]]) * 0.25\n",
        "    y_kernel = np.array([[-1, -1], [1, 1]]) * 0.25\n",
        "    t_kernel = np.ones((2, 2)) * 0.25\n",
        "\n",
        "    fx = cv2.filter2D(img1, -1, x_kernel) + cv2.filter2D(img2, -1, x_kernel)\n",
        "    fy = cv2.filter2D(img1, -1, y_kernel) + cv2.filter2D(img2, -1, y_kernel)\n",
        "    ft = cv2.filter2D(img1, -1, -t_kernel) + cv2.filter2D(img2, -1, t_kernel)\n",
        "\n",
        "    return [fx, fy, ft]"
      ]
    },
    {
      "cell_type": "code",
      "execution_count": 4,
      "metadata": {
        "id": "rWefAjDC1gVY"
      },
      "outputs": [],
      "source": [
        "# Face detection and cropping function\n",
        "def detect_and_crop_face(image):\n",
        "    face_cascade = cv2.CascadeClassifier(cv2.data.haarcascades + 'haarcascade_frontalface_default.xml')\n",
        "    gray_image = cv2.cvtColor(image, cv2.COLOR_BGR2GRAY)\n",
        "    faces = face_cascade.detectMultiScale(gray_image, 1.3, 5)\n",
        "\n",
        "    if len(faces) == 0:\n",
        "        raise NameError(\"No face detected in the image.\")\n",
        "\n",
        "    for (x, y, w, h) in faces:\n",
        "        face_crop = gray_image[y:y + h, x:x + w]\n",
        "        return face_crop\n",
        "\n",
        "    return None"
      ]
    },
    {
      "cell_type": "code",
      "execution_count": 5,
      "metadata": {},
      "outputs": [],
      "source": [
        "# Function to draw quiver plot for optical flow vectors (One Plot)\n",
        "def draw_quiver(u, v, beforeImg):\n",
        "    scale = 3\n",
        "    ax = pyplot.figure().gca()\n",
        "    ax.imshow(beforeImg, cmap='gray')\n",
        "\n",
        "    magnitudeAvg = get_magnitude(u, v)\n",
        "\n",
        "    for i in range(0, u.shape[0], 8):\n",
        "        for j in range(0, u.shape[1], 8):\n",
        "            dy = v[i, j] * scale\n",
        "            dx = u[i, j] * scale\n",
        "            magnitude = (dx**2 + dy**2)**0.5\n",
        "            # Draw only significant changes\n",
        "            if magnitude > magnitudeAvg:\n",
        "                ax.arrow(j, i, dx, dy, color='red')\n",
        "\n",
        "    pyplot.draw()\n",
        "    pyplot.show()"
      ]
    },
    {
      "cell_type": "code",
      "execution_count": 28,
      "metadata": {},
      "outputs": [],
      "source": [
        "def draw_quiver_only(u, v, beforeImg):\n",
        "    background = beforeImg\n",
        "    background[:,:] = 255\n",
        "    scale = 3\n",
        "    ax = pyplot.figure().gca()\n",
        "    magnitudeAvg = get_magnitude(u, v)\n",
        "\n",
        "    ax.imshow(background, cmap='gray')\n",
        "\n",
        "    for i in range(0, u.shape[0], 8):\n",
        "        for j in range(0, u.shape[1], 8):\n",
        "            dy = v[i, j] * scale\n",
        "            dx = u[i, j] * scale\n",
        "            magnitude = (dx**2 + dy**2)**0.5\n",
        "            # Draw only significant changes\n",
        "            if magnitude > magnitudeAvg:\n",
        "                ax.arrow(j, i, dx, dy, color='red')\n",
        "\n",
        "    pyplot.draw()\n",
        "    pyplot.show()"
      ]
    },
    {
      "cell_type": "code",
      "execution_count": 7,
      "metadata": {
        "id": "iR3dGTgg1l6I"
      },
      "outputs": [],
      "source": [
        "# Function to compute Horn-Schunck optical flow with face detection\n",
        "def computeHS_with_face_detection(image1, image2, alpha, delta):\n",
        "    # Read the images\n",
        "    beforeImg = cv2.imread(image1)\n",
        "    afterImg = cv2.imread(image2)\n",
        "\n",
        "    #Detect and crop the face from both images\n",
        "    beforeFace = detect_and_crop_face(beforeImg)\n",
        "    afterFace = detect_and_crop_face(afterImg)\n",
        "\n",
        "    if beforeFace is None or afterFace is None:\n",
        "       raise NameError(\"No face detected in one or both images.\")\n",
        "\n",
        "    beforeFace = beforeFace.astype(float)\n",
        "    afterFace = afterFace.astype(float)\n",
        "\n",
        "    # Removing noise\n",
        "    beforeFace = cv2.GaussianBlur(beforeFace, (5, 5), 0)\n",
        "    afterFace = cv2.GaussianBlur(afterFace, (5, 5), 0)\n",
        "\n",
        "    #resize\n",
        "    beforeFace, afterFace = resize_images(beforeFace, afterFace)\n",
        "\n",
        "    # Initialize optical flow vectors\n",
        "    u = np.zeros(beforeFace.shape)\n",
        "    v = np.zeros(beforeFace.shape)\n",
        "\n",
        "    # Compute image derivatives\n",
        "    fx, fy, ft = get_derivatives(beforeFace, afterFace)\n",
        "\n",
        "    # Horn-Schunck algorithm iterations\n",
        "    avg_kernel = np.array([[1 / 12, 1 / 6, 1 / 12],\n",
        "                           [1 / 6, 0, 1 / 6],\n",
        "                           [1 / 12, 1 / 6, 1 / 12]], float)\n",
        "    iter_counter = 0\n",
        "    while True:\n",
        "        iter_counter += 1\n",
        "        u_avg = cv2.filter2D(u, -1, avg_kernel)\n",
        "        v_avg = cv2.filter2D(v, -1, avg_kernel)\n",
        "        p = fx * u_avg + fy * v_avg + ft\n",
        "        d = 4 * alpha**2 + fx**2 + fy**2\n",
        "        prev = u\n",
        "\n",
        "        u = u_avg - fx * (p / d)\n",
        "        v = v_avg - fy * (p / d)\n",
        "\n",
        "        diff = np.linalg.norm(u - prev, 2)\n",
        "        # Convergence check (at most 300 iterations)\n",
        "        if diff < delta or iter_counter > 300:\n",
        "            break\n",
        "\n",
        "    # Draw the optical flow (quiver plot) for the whole face\n",
        "    draw_quiver(u, v, beforeFace)\n",
        "\n",
        "    return [u, v]"
      ]
    },
    {
      "cell_type": "code",
      "execution_count": 13,
      "metadata": {
        "id": "Mo39YTTbACI0"
      },
      "outputs": [],
      "source": [
        "#################NOFACE######################################################\n",
        "def computeHS_without_face_detection(image1, image2, alpha, delta):\n",
        "    # Read the images\n",
        "    beforeImg = cv2.imread(image1)\n",
        "    afterImg = cv2.imread(image2)\n",
        "\n",
        "    beforeFace = beforeImg\n",
        "    afterFace = afterImg\n",
        "\n",
        "    # Convert to grayscale\n",
        "    beforeFace = cv2.cvtColor(beforeFace, cv2.COLOR_BGR2GRAY)\n",
        "    afterFace = cv2.cvtColor(afterFace, cv2.COLOR_BGR2GRAY)\n",
        "\n",
        "    beforeFace = beforeFace.astype(float)\n",
        "    afterFace = afterFace.astype(float)\n",
        "\n",
        "    # Removing noise\n",
        "    beforeFace = cv2.GaussianBlur(beforeFace, (5, 5), 0)\n",
        "    afterFace = cv2.GaussianBlur(afterFace, (5, 5), 0)\n",
        "\n",
        "    # Resize\n",
        "    beforeFace, afterFace = resize_images(beforeFace, afterFace)\n",
        "\n",
        "    # Initialize optical flow vectors\n",
        "    u = np.zeros(beforeFace.shape)\n",
        "    v = np.zeros(beforeFace.shape)\n",
        "\n",
        "    # Compute image derivatives\n",
        "    fx, fy, ft = get_derivatives(beforeFace, afterFace)\n",
        "\n",
        "    # Horn-Schunck algorithm iterations\n",
        "    avg_kernel = np.array([[1 / 12, 1 / 6, 1 / 12],\n",
        "                           [1 / 6, 0, 1 / 6],\n",
        "                           [1 / 12, 1 / 6, 1 / 12]], float)\n",
        "    iter_counter = 0\n",
        "    while True:\n",
        "        iter_counter += 1\n",
        "        u_avg = cv2.filter2D(u, -1, avg_kernel)\n",
        "        v_avg = cv2.filter2D(v, -1, avg_kernel)\n",
        "        p = fx * u_avg + fy * v_avg + ft\n",
        "        d = 4 * alpha**2 + fx**2 + fy**2\n",
        "        prev = u\n",
        "\n",
        "        u = u_avg - fx * (p / d)\n",
        "        v = v_avg - fy * (p / d)\n",
        "\n",
        "        diff = np.linalg.norm(u - prev, 2)\n",
        "        # Convergence check (at most 300 iterations)\n",
        "        if diff < delta or iter_counter > 300:\n",
        "            break\n",
        "\n",
        "    # Draw the optical flow (quiver plot) for the whole face\n",
        "    draw_quiver_only(u, v, beforeFace)\n",
        "\n",
        "    return [u, v]\n"
      ]
    },
    {
      "cell_type": "code",
      "execution_count": 9,
      "metadata": {
        "id": "Wl89qz1s3QST"
      },
      "outputs": [],
      "source": [
        "def resize_images(image1, image2):\n",
        "    # Get the smaller dimensions\n",
        "    min_height = min(image1.shape[0], image2.shape[0])\n",
        "    min_width = min(image1.shape[1], image2.shape[1])\n",
        "\n",
        "    # Resize both images to the smallest dimensions\n",
        "    resized_img1 = cv2.resize(image1, (min_width, min_height), interpolation=cv2.INTER_AREA)\n",
        "    resized_img2 = cv2.resize(image2, (min_width, min_height), interpolation=cv2.INTER_AREA)\n",
        "\n",
        "    return resized_img1, resized_img2"
      ]
    },
    {
      "cell_type": "code",
      "execution_count": 10,
      "metadata": {
        "id": "KSNUTFUTSmhN"
      },
      "outputs": [],
      "source": [
        "def compute_t_value(u, v):\n",
        "    # Compute the magnitude of the optical flow at each point\n",
        "    flow_magnitude = np.sqrt(u**2 + v**2)\n",
        "\n",
        "    # Find the maximum and minimum flow magnitudes\n",
        "    max_flow = np.max(flow_magnitude)\n",
        "    min_flow = np.min(flow_magnitude)\n",
        "\n",
        "    # Compute the t-value as the difference between max and min flow\n",
        "    t_value = max_flow - min_flow\n",
        "\n",
        "    return t_value"
      ]
    },
    {
      "cell_type": "code",
      "execution_count": 11,
      "metadata": {
        "id": "w4t09RdSc-nU"
      },
      "outputs": [],
      "source": [
        "def resize_with_aspect_ratio(image, target_width, target_height):\n",
        "\n",
        "    gray_image = cv2.cvtColor(image, cv2.COLOR_BGR2GRAY)\n",
        "\n",
        "    h, w = gray_image.shape\n",
        "    # Calculate the scaling factors\n",
        "    scale_w = target_width / w\n",
        "    scale_h = target_height / h\n",
        "    scale = min(scale_w, scale_h)\n",
        "\n",
        "    # Calculate the new dimensions\n",
        "    new_w = int(w * scale)\n",
        "    new_h = int(h * scale)\n",
        "\n",
        "    # Resize the image\n",
        "    resized_image = cv2.resize(gray_image, (new_w, new_h), interpolation=cv2.INTER_AREA)\n",
        "\n",
        "    # Create a new image with the target size and place the resized image in the center\n",
        "    new_image = cv2.resize(resized_image, (target_width, target_height), interpolation=cv2.INTER_AREA)\n",
        "\n",
        "    return new_image"
      ]
    },
    {
      "cell_type": "code",
      "execution_count": 29,
      "metadata": {
        "colab": {
          "base_uri": "https://localhost:8080/",
          "height": 452
        },
        "id": "1PXOpkItaUw5",
        "outputId": "fe013346-5adf-4b61-fc95-a6690f14b883"
      },
      "outputs": [
        {
          "name": "stdout",
          "output_type": "stream",
          "text": [
            "Neutral to Sad\n"
          ]
        },
        {
          "data": {
            "image/png": "[encoded data removed]",
            "text/plain": [
              "<Figure size 640x480 with 1 Axes>"
            ]
          },
          "metadata": {},
          "output_type": "display_data"
        },
        {
          "ename": "",
          "evalue": "",
          "output_type": "error",
          "traceback": [
            "\u001b[1;31mThe Kernel crashed while executing code in the current cell or a previous cell. \n",
            "\u001b[1;31mPlease review the code in the cell(s) to identify a possible cause of the failure. \n",
            "\u001b[1;31mClick <a href='https://aka.ms/vscodeJupyterKernelCrash'>here</a> for more info. \n",
            "\u001b[1;31mView Jupyter <a href='command:jupyter.viewOutput'>log</a> for further details."
          ]
        }
      ],
      "source": [
        "# Neutral to Sad\n",
        "alpha = 15\n",
        "delta = 10**-1\n",
        "\n",
        "print(\"Neutral to Sad\")\n",
        "\n",
        "image1 = \"Images/test.jpg\"\n",
        "image2 = \"Images/test2.jpg\"\n",
        "\n",
        "u, v = computeHS_without_face_detection(image1, image2, alpha, delta)"
      ]
    },
    {
      "cell_type": "code",
      "execution_count": 36,
      "metadata": {
        "colab": {
          "base_uri": "https://localhost:8080/",
          "height": 211
        },
        "id": "xLvRuEqLAuPD",
        "outputId": "b148d238-1ba0-4aca-83e3-319f1ea5b77e"
      },
      "outputs": [
        {
          "data": {
            "image/png": "[encoded data removed]",
            "text/plain": [
              "<Figure size 640x480 with 1 Axes>"
            ]
          },
          "metadata": {},
          "output_type": "display_data"
        }
      ],
      "source": [
        "import matplotlib.pyplot as plt\n",
        "\n",
        "flow_x, flow_y = u, v\n",
        "\n",
        "# Convert the flow to polar coordinates (magnitude and angle)\n",
        "magnitude, angle = cv2.cartToPolar(flow_x, flow_y)\n",
        "\n",
        "# Normalize the magnitude to fit within the range [0, 1]\n",
        "magnitude = cv2.normalize(magnitude, None, 0, 1, cv2.NORM_MINMAX)\n",
        "\n",
        "# Convert angle to degrees and map to [0, 180] (for hue in HSV)\n",
        "angle_deg = angle * 180 / np.pi / 2\n",
        "\n",
        "# Create an HSV image where:\n",
        "# - Hue represents direction (angle)\n",
        "# - Saturation is fixed at 1\n",
        "# - Value represents magnitude (normalized)\n",
        "hsv = np.zeros((u.shape[0], v.shape[1], 3), dtype=np.float32)\n",
        "hsv[..., 0] = angle_deg    # Hue (angle of the flow)\n",
        "hsv[..., 1] = 1            # Saturation (constant full saturation)\n",
        "hsv[..., 2] = magnitude    # Value (magnitude of the flow)\n",
        "\n",
        "# Convert the HSV image to RGB for visualization\n",
        "rgb_flow = cv2.cvtColor(hsv, cv2.COLOR_HSV2BGR)\n",
        "\n",
        "# Show the resulting optical flow visualization\n",
        "plt.imshow(cv2.cvtColor(rgb_flow, cv2.COLOR_BGR2RGB))  # Convert BGR (OpenCV format) to RGB for correct color display\n",
        "plt.title('Optical Flow (RGB)')  # Add a title to the plot\n",
        "plt.axis('off')  # Hide axis\n",
        "\n",
        "# Display the image\n",
        "plt.show()"
      ]
    }
  ],
  "metadata": {
    "colab": {
      "provenance": []
    },
    "kernelspec": {
      "display_name": "base",
      "language": "python",
      "name": "python3"
    },
    "language_info": {
      "codemirror_mode": {
        "name": "ipython",
        "version": 3
      },
      "file_extension": ".py",
      "mimetype": "text/x-python",
      "name": "python",
      "nbconvert_exporter": "python",
      "pygments_lexer": "ipython3",
      "version": "3.11.7"
    }
  },
  "nbformat": 4,
  "nbformat_minor": 0
}
